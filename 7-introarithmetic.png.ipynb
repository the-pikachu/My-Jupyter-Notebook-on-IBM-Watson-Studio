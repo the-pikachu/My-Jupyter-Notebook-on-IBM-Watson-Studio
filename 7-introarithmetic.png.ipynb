{
 "cells": [
  {
   "cell_type": "markdown",
   "id": "aab1762a",
   "metadata": {},
   "source": [
    "# Arithmetic Expression Examples"
   ]
  },
  {
   "cell_type": "markdown",
   "id": "0bf6ddb6",
   "metadata": {},
   "source": [
    "Arithmetic expressions are mathematical operations that involve numbers and operators such as\n",
    "• Addition\n",
    "• Subtraction\n",
    "• Multiplication\n",
    "• Division"
   ]
  }
 ],
 "metadata": {
  "kernelspec": {
   "display_name": "Python 3 (ipykernel)",
   "language": "python",
   "name": "python3"
  },
  "language_info": {
   "codemirror_mode": {
    "name": "ipython",
    "version": 3
   },
   "file_extension": ".py",
   "mimetype": "text/x-python",
   "name": "python",
   "nbconvert_exporter": "python",
   "pygments_lexer": "ipython3",
   "version": "3.10.9"
  }
 },
 "nbformat": 4,
 "nbformat_minor": 5
}
