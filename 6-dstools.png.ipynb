{
 "cells": [
  {
   "cell_type": "markdown",
   "id": "8b62e933",
   "metadata": {},
   "source": [
    "# Data Science Tools Table"
   ]
  },
  {
   "cell_type": "markdown",
   "id": "c8da9c81",
   "metadata": {},
   "source": [
    "| Tool Name | Description | \n",
    "| --- | --- | \n",
    "| Jupyter Notebook | Interactive computing environment |\n",
    "| Anaconda | Package management system and environment for scientific computing |\n",
    "| Tableau | Business Intelligence and Data Visualization software |\n",
    "| Apache Spark | Cluster computing system for big data |\n",
    "| Apache Hadoop | Distributed storage and processing system for big data |\n",
    "| KNIME | Open- Source data analytics platform |\n",
    "| RapidMiner | Open source platform for data science teams |\n",
    "| DataRobot | Automated machine learning platform |\n",
    "| SAS | Statistical analysis system |\n",
    "| IBM Watson Studio | Cloud based data science program |"
   ]
  }
 ],
 "metadata": {
  "kernelspec": {
   "display_name": "Python 3 (ipykernel)",
   "language": "python",
   "name": "python3"
  },
  "language_info": {
   "codemirror_mode": {
    "name": "ipython",
    "version": 3
   },
   "file_extension": ".py",
   "mimetype": "text/x-python",
   "name": "python",
   "nbconvert_exporter": "python",
   "pygments_lexer": "ipython3",
   "version": "3.10.9"
  }
 },
 "nbformat": 4,
 "nbformat_minor": 5
}
