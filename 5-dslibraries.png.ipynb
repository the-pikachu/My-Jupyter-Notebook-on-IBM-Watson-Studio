{
 "cells": [
  {
   "cell_type": "markdown",
   "id": "af665e71",
   "metadata": {},
   "source": [
    "# Data Science Libraries"
   ]
  },
  {
   "cell_type": "code",
   "execution_count": null,
   "id": "2432bb7e",
   "metadata": {},
   "outputs": [],
   "source": [
    "• Numpy\n",
    "• Pandas\n",
    "• Matplotlib\n",
    "• Seaborn\n",
    "• Scikit-learn\n",
    "• TensorFlow\n",
    "• \n"
   ]
  }
 ],
 "metadata": {
  "kernelspec": {
   "display_name": "Python 3 (ipykernel)",
   "language": "python",
   "name": "python3"
  },
  "language_info": {
   "codemirror_mode": {
    "name": "ipython",
    "version": 3
   },
   "file_extension": ".py",
   "mimetype": "text/x-python",
   "name": "python",
   "nbconvert_exporter": "python",
   "pygments_lexer": "ipython3",
   "version": "3.10.9"
  }
 },
 "nbformat": 4,
 "nbformat_minor": 5
}
