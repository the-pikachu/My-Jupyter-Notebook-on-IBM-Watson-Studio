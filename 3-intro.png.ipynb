{
 "cells": [
  {
   "cell_type": "markdown",
   "id": "d07d936e",
   "metadata": {},
   "source": [
    "# Introduction"
   ]
  },
  {
   "cell_type": "markdown",
   "id": "3cc35ea4",
   "metadata": {},
   "source": [
    "This notebook is created to practice and learn various concepts related to Data Science, including programming languages, libraries and tools.\n",
    "\n",
    "It will also cover basic arithmetic operations and their implementation in python."
   ]
  }
 ],
 "metadata": {
  "kernelspec": {
   "display_name": "Python 3 (ipykernel)",
   "language": "python",
   "name": "python3"
  },
  "language_info": {
   "codemirror_mode": {
    "name": "ipython",
    "version": 3
   },
   "file_extension": ".py",
   "mimetype": "text/x-python",
   "name": "python",
   "nbconvert_exporter": "python",
   "pygments_lexer": "ipython3",
   "version": "3.10.9"
  }
 },
 "nbformat": 4,
 "nbformat_minor": 5
}
